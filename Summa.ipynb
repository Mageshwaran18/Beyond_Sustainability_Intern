{
 "cells": [
  {
   "cell_type": "code",
   "execution_count": 51,
   "metadata": {},
   "outputs": [],
   "source": [
    "import streamlit as st\n",
    "from dotenv import load_dotenv\n",
    "\n",
    "load_dotenv() ##load all the environment variables from .env\n",
    "\n",
    "import streamlit as st\n",
    "import os\n",
    "from PIL import Image\n",
    "import google.generativeai as genai"
   ]
  },
  {
   "cell_type": "code",
   "execution_count": 52,
   "metadata": {},
   "outputs": [
    {
     "name": "stdout",
     "output_type": "stream",
     "text": [
      "models/gemini-1.0-pro\n",
      "models/gemini-1.0-pro-001\n",
      "models/gemini-1.0-pro-latest\n",
      "models/gemini-1.0-pro-vision-latest\n",
      "models/gemini-1.5-flash\n",
      "models/gemini-1.5-flash-001\n",
      "models/gemini-1.5-flash-latest\n",
      "models/gemini-1.5-pro\n",
      "models/gemini-1.5-pro-001\n",
      "models/gemini-1.5-pro-latest\n",
      "models/gemini-pro\n",
      "models/gemini-pro-vision\n"
     ]
    }
   ],
   "source": [
    "for m in genai.list_models():\n",
    "    if \"generateContent\" in m.supported_generation_methods:\n",
    "        print(m.name)"
   ]
  },
  {
   "cell_type": "code",
   "execution_count": 53,
   "metadata": {},
   "outputs": [],
   "source": [
    "genai.configure(api_key=os.getenv(\"GOOGLE_API_KEY\"))\n",
    "\n",
    "#fucntion to load Gemini Pro Vision \n",
    "model = genai.GenerativeModel('gemini-1.5-flash-latest')"
   ]
  },
  {
   "cell_type": "code",
   "execution_count": 54,
   "metadata": {},
   "outputs": [],
   "source": [
    "prompt=f\"\"\"Consider you're professional and\n",
    " you have the ability to tell the Mitigation strategy for the emission of a company.\n",
    " I need  top 10 mitigation strategy only which will be applicable for the particular(Precise) company under the given budget limit. \n",
    " It should be in single lined. \n",
    " \"\"\"\n",
    "def get_gemini_response(user_input ,prompt):\n",
    "    response=model.generate_content([user_input,prompt])\n",
    "    return response.text"
   ]
  },
  {
   "cell_type": "code",
   "execution_count": 55,
   "metadata": {},
   "outputs": [],
   "source": [
    "def user_input_generator(company_name, industry_name, scope1_emission, scope2_emission, budget):\n",
    "    txt = f\"\"\"My company name is {company_name} and we are in the {industry_name} industry. We have scope 1 emissions such as {', '.join(scope1_emission)}.\n",
    "Scope 2 emissions include {', '.join(scope2_emission)} and the budget is ${budget} million.\n",
    "\"\"\" \n",
    "    return txt"
   ]
  },
  {
   "cell_type": "code",
   "execution_count": 56,
   "metadata": {},
   "outputs": [],
   "source": [
    "company_name = \"Johnson Controls International\"\n",
    "industry_name = \"Manufacturing\"\n",
    "scope1_emission = [\"Fugitive Emission\", \"Process Emission\", \"Combustion of Natural Gas\", \"Combustion of Diesel\", \"Combustion of Gasoline\"]\n",
    "scope2_emission = [\"Manufacturing Emission\", \"Transportation Emission\"]\n",
    "budget = 10\n",
    "\n",
    "user_input = user_input_generator(company_name, industry_name, scope1_emission, scope2_emission, budget)"
   ]
  },
  {
   "cell_type": "code",
   "execution_count": 58,
   "metadata": {},
   "outputs": [
    {
     "data": {
      "text/plain": [
       "'Here are 10 mitigation strategies for Johnson Controls International, tailored to their manufacturing focus and $10 million budget:\\n\\n1. **Fugitive Emissions Reduction:** Implement leak detection and repair programs for equipment and pipelines, focusing on high-emission areas.\\n2. **Process Optimization:** Optimize manufacturing processes to reduce material and energy consumption, minimizing emissions and waste.\\n3. **Natural Gas Combustion Efficiency:** Upgrade combustion equipment and control systems for optimal efficiency, reducing natural gas consumption and emissions.\\n4. **Diesel Fuel Transition:** Explore alternative fuels or technologies like biodiesel or electric vehicles for diesel-powered equipment.\\n5. **Gasoline Vehicle Reduction:** Transition to electric or hybrid vehicles for gasoline-powered fleets, particularly for short-distance transportation.\\n6. **Renewable Energy Integration:**  Invest in onsite renewable energy sources like solar panels or wind turbines to offset electricity consumption and emissions.\\n7. **Energy Efficiency Upgrades:** Implement energy audits and retrofit facilities with energy-efficient lighting, HVAC systems, and insulation.\\n8. **Sustainable Procurement:** Prioritize suppliers with strong sustainability practices and low-emission products and materials.\\n9. **Carbon Capture and Storage:** Explore and invest in carbon capture and storage technologies for large-scale emissions reduction.\\n10. **Carbon Offsetting:** Purchase verified carbon offsets to neutralize remaining emissions, supporting renewable energy projects or reforestation efforts. \\n'"
      ]
     },
     "execution_count": 58,
     "metadata": {},
     "output_type": "execute_result"
    }
   ],
   "source": [
    "get_gemini_response(user_input,prompt)"
   ]
  },
  {
   "cell_type": "code",
   "execution_count": null,
   "metadata": {},
   "outputs": [],
   "source": []
  }
 ],
 "metadata": {
  "kernelspec": {
   "display_name": "INEX",
   "language": "python",
   "name": "python3"
  },
  "language_info": {
   "codemirror_mode": {
    "name": "ipython",
    "version": 3
   },
   "file_extension": ".py",
   "mimetype": "text/x-python",
   "name": "python",
   "nbconvert_exporter": "python",
   "pygments_lexer": "ipython3",
   "version": "3.10.0"
  }
 },
 "nbformat": 4,
 "nbformat_minor": 2
}
